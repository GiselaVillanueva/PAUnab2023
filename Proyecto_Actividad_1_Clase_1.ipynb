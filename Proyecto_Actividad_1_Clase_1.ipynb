{
  "nbformat": 4,
  "nbformat_minor": 0,
  "metadata": {
    "colab": {
      "provenance": [],
      "authorship_tag": "ABX9TyNxM5CJ2KN9CMr22ZRnwkhC",
      "include_colab_link": true
    },
    "kernelspec": {
      "name": "python3",
      "display_name": "Python 3"
    },
    "language_info": {
      "name": "python"
    }
  },
  "cells": [
    {
      "cell_type": "markdown",
      "metadata": {
        "id": "view-in-github",
        "colab_type": "text"
      },
      "source": [
        "<a href=\"https://colab.research.google.com/github/GiselaVillanueva/PAUnab2023/blob/main/Proyecto_Actividad_1_Clase_1.ipynb\" target=\"_parent\"><img src=\"https://colab.research.google.com/assets/colab-badge.svg\" alt=\"Open In Colab\"/></a>"
      ]
    },
    {
      "cell_type": "code",
      "execution_count": 8,
      "metadata": {
        "colab": {
          "base_uri": "https://localhost:8080/"
        },
        "id": "FZ-jcDFwAWdE",
        "outputId": "e8d382af-0422-4414-cffd-345310fc5e9b"
      },
      "outputs": [
        {
          "output_type": "stream",
          "name": "stdout",
          "text": [
            "Ingrese figura a calcular (C para cuadrado, R para rectángulo, O para círculo): O\n",
            "Ingrese medida del radio del círculo: 2.40\n",
            "¿Continuar? (S para sí, N para no)N\n",
            "18.09557368467721\n"
          ]
        }
      ],
      "source": [
        "import math\n",
        "\n",
        "calcular=\"S\"\n",
        "area=0\n",
        "\n",
        "while calcular==\"S\":\n",
        "  figura=input(\"Ingrese figura a calcular (C para cuadrado, R para rectángulo, O para círculo): \")\n",
        "  if figura!=\"C\" and figura!=\"R\" and figura!=\"O\":\n",
        "    print(\"Incorrecto. Ingrese una opción correcta.\")\n",
        "    figura=input(\"Ingrese figura a calcular (C para cuadrado, R para rectángulo, O para círculo: \")\n",
        "  if figura==\"C\":\n",
        "    lado=float(input(\"Ingrese medida del lado del cuadrado: \"))\n",
        "    area=lado*lado\n",
        "  if figura==\"O\":\n",
        "    radio=float(input(\"Ingrese medida del radio del círculo: \"))\n",
        "    area=math.pi*(radio**2)\n",
        "  if figura==\"R\":\n",
        "    lado1=float(input(\"Ingrese medida del primer lado del rectángulo: \"))\n",
        "    lado2=float(input(\"Ingrese medida del segundo lado del rectángulo: \"))\n",
        "    area=lado1*lado2\n",
        "  calcular=input(\"¿Continuar? (S para sí, N para no)\")\n",
        "\n",
        "print(area)\n"
      ]
    },
    {
      "cell_type": "code",
      "source": [
        "import math\n",
        "\n",
        "def area_circulo(radio):\n",
        "  return math.pi*(radio**2)\n",
        "\n",
        "def area_cuadrado(lado):\n",
        "  return lado**2\n",
        "\n",
        "def area_rectangulo(lado1,lado2):\n",
        "  return lado1*lado2\n",
        "\n",
        "#area_circulo(2)\n",
        "#area_cuadrado(4)\n",
        "#area_rectangulo(2,4)\n",
        "\n",
        "def linea_media_rectangulo(lado1,lado2):\n",
        "  return math.sqrt((lado1**2)+(lado2**2))\n",
        "\n",
        "#linea_media_rectangulo(2,4)"
      ],
      "metadata": {
        "colab": {
          "base_uri": "https://localhost:8080/"
        },
        "id": "fB36W0lzQwBy",
        "outputId": "8482d4cb-5bb4-4c59-dd39-fc57b6e6a0f0"
      },
      "execution_count": 29,
      "outputs": [
        {
          "output_type": "execute_result",
          "data": {
            "text/plain": [
              "4.47213595499958"
            ]
          },
          "metadata": {},
          "execution_count": 29
        }
      ]
    },
    {
      "cell_type": "code",
      "source": [
        "import math\n",
        "\n",
        "def area_circulo(radio):\n",
        "  return math.pi*(radio**2)\n",
        "\n",
        "def area_cuadrado(lado):\n",
        "  return lado**2\n",
        "\n",
        "def area_rectangulo(lado1,lado2):\n",
        "  return lado1*lado2\n",
        "\n",
        "#area_circulo(2)\n",
        "#area_cuadrado(4)\n",
        "#area_rectangulo(2,4)\n",
        "\n",
        "#def linea_media_rectangulo(lado1,lado2):\n",
        "#  return math.sqrt((lado1**2)+(lado2**2))\n",
        "\n",
        "#linea_media_rectangulo(2,4)"
      ],
      "metadata": {
        "id": "aJfGY5KiUZeu"
      },
      "execution_count": null,
      "outputs": []
    },
    {
      "cell_type": "code",
      "source": [
        "import math\n",
        "\n",
        "def area_perimetro_circulo(radio):\n",
        "  area_o=math.pi*(radio**2)\n",
        "  peri_o=math.pi*(radio*2)\n",
        "  print(area_o)\n",
        "  print(peri_o)\n",
        "\n",
        "def area_perimetro_cuadrado(lado):\n",
        "  area_c=lado**2\n",
        "  peri_c=lado*4\n",
        "  print(area_c)\n",
        "  print(peri_c)\n",
        "\n",
        "def area_perimetro_rectangulo(lado1,lado2):\n",
        "  area_r=lado1*lado2\n",
        "  peri_r=2*(lado1+lado2)\n",
        "  print(area_r)\n",
        "  print(peri_r)\n",
        "\n",
        "#area_perimetro_circulo(3.5)\n",
        "#area_perimetro_cuadrado(4)\n",
        "#area_perimetro_rectangulo(2,4)\n",
        "\n"
      ],
      "metadata": {
        "colab": {
          "base_uri": "https://localhost:8080/"
        },
        "id": "ZbzvXKclVmDL",
        "outputId": "63e1e989-d9c4-4264-e700-91d6a3454f14"
      },
      "execution_count": 41,
      "outputs": [
        {
          "output_type": "stream",
          "name": "stdout",
          "text": [
            "38.48451000647496\n",
            "21.991148575128552\n"
          ]
        }
      ]
    }
  ]
}